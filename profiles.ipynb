{
 "cells": [
  {
   "cell_type": "code",
   "execution_count": 17,
   "metadata": {},
   "outputs": [],
   "source": [
    "from barpa_read import drop_duplicates, file_dates\n",
    "import xarray as xr\n",
    "import metpy.calc as mpcalc\n",
    "import metpy.units as units\n",
    "import datetime as dt\n",
    "import numpy as np\n",
    "from barra_read import date_seq\n",
    "import glob\n",
    "import matplotlib.pyplot as plt\n",
    "from dask.diagnostics import ProgressBar\n",
    "ProgressBar().register()"
   ]
  },
  {
   "cell_type": "code",
   "execution_count": 7,
   "metadata": {},
   "outputs": [
    {
     "name": "stdout",
     "output_type": "stream",
     "text": [
      "[########################################] | 100% Completed | 32.6s\n",
      "[########################################] | 100% Completed | 32.6s\n",
      "[########################################] | 100% Completed | 23.5s\n",
      "[########################################] | 100% Completed | 23.6s\n"
     ]
    }
   ],
   "source": [
    "#Load HUS, T for BARPA\n",
    "experiment=\"era\"\n",
    "forcing_mdl=\"erai\"\n",
    "ensemble=\"r0\"\n",
    "time = [dt.datetime(1990,1,1,0), dt.datetime(1990,1,31,18)]\n",
    "\n",
    "query_dates = date_seq(time, \"hours\", 6)\n",
    "barpa_hus_files = np.sort(glob.glob(\"/g/data/du7/barpa/trials/BARPA-EASTAUS_12km/\"+\\\n",
    "                    experiment+\"/\"+forcing_mdl+\\\n",
    "                    \"/\"+ensemble+\"/*/*/pp2/spec_hum*\"))\n",
    "barpa_ta_files = np.sort(glob.glob(\"/g/data/du7/barpa/trials/BARPA-EASTAUS_12km/\"+\\\n",
    "                    experiment+\"/\"+forcing_mdl+\\\n",
    "                    \"/\"+ensemble+\"/*/*/pp2/air_temp*\"))\n",
    "barpa_hus_files = barpa_hus_files[file_dates(barpa_hus_files, query_dates)]\n",
    "barpa_ta_files = barpa_ta_files[file_dates(barpa_ta_files, query_dates)]\n",
    "hus_barpa = drop_duplicates(xr.open_mfdataset(barpa_hus_files, concat_dim=\"time\", combine=\"nested\"))     #1 (kg/kg?)\n",
    "ta_barpa = drop_duplicates(xr.open_mfdataset(barpa_ta_files, concat_dim=\"time\", combine=\"nested\"))       #K\n",
    "hus_barpa = hus_barpa.interp({\"latitude\":-12.462827, \"longitude\":130.841782}).persist()\n",
    "ta_barpa = ta_barpa.interp({\"latitude\":-12.462827, \"longitude\":130.841782}).persist()\n",
    "\n",
    "        "
   ]
  },
  {
   "cell_type": "code",
   "execution_count": 9,
   "metadata": {},
   "outputs": [
    {
     "name": "stdout",
     "output_type": "stream",
     "text": [
      "[########################################] | 100% Completed | 17min 43.0s\n",
      "[########################################] | 100% Completed | 17min 43.1s\n",
      "[########################################] | 100% Completed | 16min 47.1s\n",
      "[########################################] | 100% Completed | 16min 47.2s\n"
     ]
    }
   ],
   "source": [
    "#Load HUS, T for BARRA\n",
    "query_dates = date_seq(time, \"hours\", 6)\n",
    "barra_hur_files = np.sort(glob.glob(\"/g/data/ma05/prod/BARRA_R/v1/forecast/prs/relhum/\"+\\\n",
    "                    \"/1990/01/relhum*\"))\n",
    "barra_ta_files = np.sort(glob.glob(\"/g/data/ma05/prod/BARRA_R/v1/forecast/prs/air_temp/\"+\\\n",
    "                    \"/1990/01/air_temp*\"))\n",
    "hur_barra = drop_duplicates(xr.open_mfdataset(barra_hur_files, concat_dim=\"time\", combine=\"nested\"))     #1 (kg/kg?)\n",
    "ta_barra = drop_duplicates(xr.open_mfdataset(barra_ta_files, concat_dim=\"time\", combine=\"nested\"))       #K\n",
    "hur_barra = hur_barra.sel({\"time\":np.in1d(hur_barra.time,hur_barra.time)}).interp({\"latitude\":-12.462827, \"longitude\":130.841782}).persist()\n",
    "ta_barra = ta_barra.sel({\"time\":np.in1d(ta_barra.time,ta_barra.time)}).interp({\"latitude\":-12.462827, \"longitude\":130.841782}).persist()\n",
    "\n",
    "#Even up times\n",
    "hus_barpa = hus_barpa.sel({\"time\":np.in1d(hus_barpa.time, hur_barra.time)})\n",
    "ta_barpa = ta_barpa.sel({\"time\":np.in1d(ta_barpa.time, ta_barra.time)})\n",
    "    "
   ]
  },
  {
   "cell_type": "code",
   "execution_count": 64,
   "metadata": {},
   "outputs": [
    {
     "name": "stdout",
     "output_type": "stream",
     "text": [
      "[########################################] | 100% Completed |  0.1s\n",
      "[########################################] | 100% Completed |  0.1s\n",
      "[########################################] | 100% Completed |  0.1s\n",
      "[########################################] | 100% Completed |  0.1s\n",
      "[########################################] | 100% Completed |  0.1s\n",
      "[########################################] | 100% Completed |  0.1s\n",
      "[########################################] | 100% Completed |  0.1s\n",
      "[########################################] | 100% Completed |  0.2s\n",
      "[########################################] | 100% Completed |  0.2s\n",
      "[########################################] | 100% Completed |  0.1s\n",
      "[########################################] | 100% Completed |  0.2s\n",
      "[########################################] | 100% Completed |  0.2s\n",
      "[########################################] | 100% Completed |  0.1s\n",
      "[########################################] | 100% Completed |  0.1s\n",
      "[########################################] | 100% Completed |  0.1s\n",
      "[                                        ] | 0% Completed |  0.0s"
     ]
    },
    {
     "name": "stderr",
     "output_type": "stream",
     "text": [
      "/g/data/eg3/ab4502/miniconda3/envs/wrfpython3.6/lib/python3.6/site-packages/pint/quantity.py:1488: RuntimeWarning: divide by zero encountered in log\n",
      "  return ufunc(*mobjs)\n",
      "/g/data/eg3/ab4502/miniconda3/envs/wrfpython3.6/lib/python3.6/site-packages/pint/quantity.py:888: RuntimeWarning: invalid value encountered in true_divide\n",
      "  magnitude = magnitude_op(new_self._magnitude, other._magnitude)\n"
     ]
    },
    {
     "name": "stdout",
     "output_type": "stream",
     "text": [
      "[########################################] | 100% Completed |  0.1s\n",
      "[########################################] | 100% Completed |  0.2s\n",
      "[########################################] | 100% Completed |  0.2s\n"
     ]
    },
    {
     "name": "stderr",
     "output_type": "stream",
     "text": [
      "/g/data/eg3/ab4502/miniconda3/envs/wrfpython3.6/lib/python3.6/site-packages/pint/quantity.py:1175: RuntimeWarning: invalid value encountered in greater\n",
      "  return op(self._convert_magnitude_not_inplace(UnitsContainer()), other)\n"
     ]
    }
   ],
   "source": [
    "hus_barpa_arvo = hus_barpa.sel({\"time\":np.in1d(hus_barpa[\"time.hour\"], [6])})\n",
    "hur_barra_arvo = hur_barra.sel({\"time\":np.in1d(hur_barra[\"time.hour\"], [6])})\n",
    "ta_barpa_arvo = ta_barpa.sel({\"time\":np.in1d(ta_barpa[\"time.hour\"], [6])})\n",
    "ta_barra_arvo = ta_barra.sel({\"time\":np.in1d(ta_barra[\"time.hour\"], [6])})\n",
    "\n",
    "hus_barpa_arvo = xr.where(ta_barpa_arvo.air_temp_uv.values < 1., np.nan, hus_barpa_arvo.spec_hum_uv)\n",
    "ta_barpa_arvo = xr.where(ta_barpa_arvo.air_temp_uv.values < 1., np.nan, ta_barpa_arvo.air_temp_uv)\n",
    "\n",
    "barra_dp = mpcalc.dewpoint_rh(ta_barra_arvo.air_temp, hur_barra_arvo.relhum/100)\n",
    "barpa_dp = mpcalc.dewpoint_from_specific_humidity(hus_barpa_arvo, ta_barpa_arvo.values*units.units.kelvin, ta_barpa_arvo.pressure )"
   ]
  },
  {
   "cell_type": "code",
   "execution_count": 67,
   "metadata": {},
   "outputs": [
    {
     "name": "stdout",
     "output_type": "stream",
     "text": [
      "[########################################] | 100% Completed |  0.1s\n"
     ]
    },
    {
     "name": "stderr",
     "output_type": "stream",
     "text": [
      "/g/data/eg3/ab4502/miniconda3/envs/wrfpython3.6/lib/python3.6/site-packages/ipykernel_launcher.py:1: RuntimeWarning: Mean of empty slice\n",
      "  \"\"\"Entry point for launching an IPython kernel.\n"
     ]
    },
    {
     "name": "stdout",
     "output_type": "stream",
     "text": [
      "[########################################] | 100% Completed |  0.2s\n",
      "[########################################] | 100% Completed |  0.2s\n",
      "[########################################] | 100% Completed |  0.1s\n",
      "[########################################] | 100% Completed |  0.2s\n",
      "[########################################] | 100% Completed |  0.2s\n"
     ]
    }
   ],
   "source": [
    "barra_mean_dp = np.nanmean(barra_dp, axis=0)\n",
    "barpa_mean_dp = np.nanmean(barpa_dp, axis=0)\n",
    "barra_mean_ta = np.nanmean(ta_barra_arvo.air_temp, axis=0)\n",
    "barpa_mean_ta = np.nanmean(ta_barpa_arvo, axis=0)"
   ]
  },
  {
   "cell_type": "code",
   "execution_count": 75,
   "metadata": {},
   "outputs": [
    {
     "data": {
      "text/plain": [
       "(1000, 100)"
      ]
     },
     "execution_count": 75,
     "metadata": {},
     "output_type": "execute_result"
    },
    {
     "data": {
      "image/png": "[encoded data removed]",
      "text/plain": [
       "<Figure size 432x288 with 1 Axes>"
      ]
     },
     "metadata": {
      "needs_background": "light"
     },
     "output_type": "display_data"
    }
   ],
   "source": [
    "ax=plt.gca()\n",
    "ax.plot(barra_mean_dp, ta_barra.pressure, marker=\"o\")\n",
    "ax.plot(barra_mean_ta-273.15, ta_barra.pressure, color=\"tab:red\", marker=\"o\")\n",
    "ax.plot(barpa_mean_dp, ta_barpa.pressure, linestyle=\"--\", marker=\"x\", color=\"tab:blue\")\n",
    "ax.plot(barpa_mean_ta-273.15, ta_barpa.pressure, color=\"tab:red\", linestyle=\"--\", marker=\"x\")\n",
    "\n",
    "ax.invert_yaxis()\n",
    "plt.ylim([1000, 100])"
   ]
  },
  {
   "cell_type": "code",
   "execution_count": 72,
   "metadata": {},
   "outputs": [
    {
     "name": "stdout",
     "output_type": "stream",
     "text": [
      "[########################################] | 100% Completed |  0.1s\n",
      "[########################################] | 100% Completed |  0.1s\n",
      "[########################################] | 100% Completed |  0.1s\n",
      "[########################################] | 100% Completed |  0.1s\n",
      "[########################################] | 100% Completed |  0.1s\n",
      "[########################################] | 100% Completed |  0.1s\n",
      "[########################################] | 100% Completed |  0.1s\n",
      "[########################################] | 100% Completed |  0.1s\n",
      "[########################################] | 100% Completed |  0.1s\n",
      "[########################################] | 100% Completed |  0.1s\n",
      "[########################################] | 100% Completed |  0.1s\n",
      "[########################################] | 100% Completed |  0.1s\n",
      "[########################################] | 100% Completed |  0.1s\n",
      "[########################################] | 100% Completed |  0.1s\n",
      "[########################################] | 100% Completed |  0.1s\n",
      "[########################################] | 100% Completed |  0.1s\n",
      "[########################################] | 100% Completed |  0.1s\n",
      "[########################################] | 100% Completed |  0.1s\n",
      "[########################################] | 100% Completed |  0.1s\n",
      "[########################################] | 100% Completed |  0.1s\n",
      "[########################################] | 100% Completed |  0.1s\n",
      "[########################################] | 100% Completed |  0.1s\n",
      "[########################################] | 100% Completed |  0.1s\n",
      "[########################################] | 100% Completed |  0.1s\n",
      "[########################################] | 100% Completed |  0.1s\n",
      "[########################################] | 100% Completed |  0.1s\n",
      "[########################################] | 100% Completed |  0.1s\n",
      "[########################################] | 100% Completed |  0.1s\n",
      "[########################################] | 100% Completed |  0.1s\n",
      "[########################################] | 100% Completed |  0.1s\n",
      "[########################################] | 100% Completed |  0.1s\n",
      "[########################################] | 100% Completed |  0.1s\n",
      "[########################################] | 100% Completed |  0.1s\n",
      "[########################################] | 100% Completed |  0.1s\n",
      "[########################################] | 100% Completed |  0.1s\n",
      "[########################################] | 100% Completed |  0.1s\n",
      "[########################################] | 100% Completed |  0.1s\n",
      "[########################################] | 100% Completed |  0.1s\n",
      "[########################################] | 100% Completed |  0.1s\n",
      "[########################################] | 100% Completed |  0.1s\n",
      "[########################################] | 100% Completed |  0.1s\n",
      "[########################################] | 100% Completed |  0.1s\n",
      "[########################################] | 100% Completed |  0.1s\n",
      "[########################################] | 100% Completed |  0.1s\n",
      "[########################################] | 100% Completed |  0.1s\n",
      "[########################################] | 100% Completed |  0.1s\n",
      "[########################################] | 100% Completed |  0.1s\n",
      "[########################################] | 100% Completed |  0.1s\n",
      "[########################################] | 100% Completed |  0.1s\n",
      "[########################################] | 100% Completed |  0.1s\n",
      "[########################################] | 100% Completed |  0.1s\n",
      "[########################################] | 100% Completed |  0.1s\n",
      "[########################################] | 100% Completed |  0.1s\n",
      "[########################################] | 100% Completed |  0.1s\n",
      "[########################################] | 100% Completed |  0.1s\n",
      "[########################################] | 100% Completed |  0.1s\n",
      "[########################################] | 100% Completed |  0.1s\n",
      "[########################################] | 100% Completed |  0.1s\n",
      "[########################################] | 100% Completed |  0.1s\n",
      "[########################################] | 100% Completed |  0.1s\n",
      "[########################################] | 100% Completed |  0.1s\n",
      "[########################################] | 100% Completed |  0.1s\n",
      "[########################################] | 100% Completed |  0.1s\n",
      "[########################################] | 100% Completed |  0.1s\n",
      "[########################################] | 100% Completed |  0.1s\n",
      "[########################################] | 100% Completed |  0.1s\n",
      "[########################################] | 100% Completed |  0.1s\n",
      "[########################################] | 100% Completed |  0.1s\n",
      "[########################################] | 100% Completed |  0.1s\n",
      "[########################################] | 100% Completed |  0.1s\n",
      "[########################################] | 100% Completed |  0.1s\n",
      "[########################################] | 100% Completed |  0.1s\n",
      "[########################################] | 100% Completed |  0.1s\n",
      "[########################################] | 100% Completed |  0.1s\n",
      "[########################################] | 100% Completed |  0.1s\n",
      "[########################################] | 100% Completed |  0.1s\n",
      "[########################################] | 100% Completed |  0.1s\n",
      "[########################################] | 100% Completed |  0.1s\n",
      "[########################################] | 100% Completed |  0.1s\n",
      "[########################################] | 100% Completed |  0.1s\n",
      "[########################################] | 100% Completed |  0.1s\n",
      "[########################################] | 100% Completed |  0.1s\n",
      "[########################################] | 100% Completed |  0.1s\n",
      "[########################################] | 100% Completed |  0.1s\n",
      "[########################################] | 100% Completed |  0.1s\n",
      "[########################################] | 100% Completed |  0.1s\n",
      "[########################################] | 100% Completed |  0.1s\n",
      "[########################################] | 100% Completed |  0.1s\n",
      "[########################################] | 100% Completed |  0.1s\n",
      "[########################################] | 100% Completed |  0.1s\n",
      "[########################################] | 100% Completed |  0.1s\n",
      "[########################################] | 100% Completed |  0.1s\n",
      "[########################################] | 100% Completed |  0.1s\n",
      "[########################################] | 100% Completed |  0.1s\n",
      "[########################################] | 100% Completed |  0.1s\n",
      "[########################################] | 100% Completed |  0.1s\n",
      "[########################################] | 100% Completed |  0.1s\n",
      "[########################################] | 100% Completed |  0.1s\n",
      "[########################################] | 100% Completed |  0.1s\n",
      "[########################################] | 100% Completed |  0.1s\n",
      "[########################################] | 100% Completed |  0.1s\n",
      "[########################################] | 100% Completed |  0.1s\n",
      "[########################################] | 100% Completed |  0.1s\n",
      "[########################################] | 100% Completed |  0.1s\n",
      "[########################################] | 100% Completed |  0.1s\n",
      "[########################################] | 100% Completed |  0.1s\n",
      "[########################################] | 100% Completed |  0.1s\n",
      "[########################################] | 100% Completed |  0.1s\n",
      "[########################################] | 100% Completed |  0.1s\n",
      "[########################################] | 100% Completed |  0.1s\n",
      "[########################################] | 100% Completed |  0.1s\n",
      "[########################################] | 100% Completed |  0.1s\n",
      "[########################################] | 100% Completed |  0.1s\n",
      "[########################################] | 100% Completed |  0.1s\n",
      "[########################################] | 100% Completed |  0.1s\n",
      "[########################################] | 100% Completed |  0.1s\n",
      "[########################################] | 100% Completed |  0.1s\n",
      "[########################################] | 100% Completed |  0.1s\n",
      "[########################################] | 100% Completed |  0.1s\n",
      "[########################################] | 100% Completed |  0.1s\n",
      "[########################################] | 100% Completed |  0.1s\n",
      "[########################################] | 100% Completed |  0.1s\n",
      "[########################################] | 100% Completed |  0.1s\n",
      "[########################################] | 100% Completed |  0.1s\n",
      "[########################################] | 100% Completed |  0.1s\n",
      "[########################################] | 100% Completed |  0.1s\n",
      "[########################################] | 100% Completed |  0.1s\n",
      "[########################################] | 100% Completed |  0.1s\n",
      "[########################################] | 100% Completed |  0.1s\n",
      "[########################################] | 100% Completed |  0.1s\n",
      "[########################################] | 100% Completed |  0.1s\n",
      "[########################################] | 100% Completed |  0.1s\n",
      "[########################################] | 100% Completed |  0.1s\n",
      "[########################################] | 100% Completed |  0.1s\n",
      "[########################################] | 100% Completed |  0.1s\n",
      "[########################################] | 100% Completed |  0.1s\n",
      "[########################################] | 100% Completed |  0.1s\n",
      "[########################################] | 100% Completed |  0.1s\n",
      "[########################################] | 100% Completed |  0.1s\n",
      "[########################################] | 100% Completed |  0.1s\n",
      "[########################################] | 100% Completed |  0.1s\n",
      "[########################################] | 100% Completed |  0.1s\n",
      "[########################################] | 100% Completed |  0.1s\n",
      "[########################################] | 100% Completed |  0.1s\n",
      "[########################################] | 100% Completed |  0.1s\n",
      "[########################################] | 100% Completed |  0.1s\n",
      "[########################################] | 100% Completed |  0.1s\n",
      "[########################################] | 100% Completed |  0.1s\n",
      "[########################################] | 100% Completed |  0.1s\n",
      "[########################################] | 100% Completed |  0.1s\n",
      "[########################################] | 100% Completed |  0.1s\n",
      "[########################################] | 100% Completed |  0.1s\n",
      "[########################################] | 100% Completed |  0.1s\n",
      "[########################################] | 100% Completed |  0.1s\n",
      "[########################################] | 100% Completed |  0.1s\n",
      "[########################################] | 100% Completed |  0.1s\n",
      "[########################################] | 100% Completed |  0.1s\n",
      "[########################################] | 100% Completed |  0.1s\n",
      "[########################################] | 100% Completed |  0.1s\n",
      "[########################################] | 100% Completed |  0.1s\n",
      "[########################################] | 100% Completed |  0.1s\n",
      "[########################################] | 100% Completed |  0.1s\n",
      "[########################################] | 100% Completed |  0.1s\n",
      "[########################################] | 100% Completed |  0.1s\n",
      "[########################################] | 100% Completed |  0.1s\n",
      "[########################################] | 100% Completed |  0.1s\n",
      "[########################################] | 100% Completed |  0.1s\n",
      "[########################################] | 100% Completed |  0.1s\n",
      "[########################################] | 100% Completed |  0.1s\n",
      "[########################################] | 100% Completed |  0.1s\n",
      "[########################################] | 100% Completed |  0.1s\n",
      "[########################################] | 100% Completed |  0.1s\n",
      "[########################################] | 100% Completed |  0.1s\n",
      "[########################################] | 100% Completed |  0.1s\n",
      "[########################################] | 100% Completed |  0.1s\n",
      "[########################################] | 100% Completed |  0.1s\n",
      "[########################################] | 100% Completed |  0.1s\n",
      "[########################################] | 100% Completed |  0.1s\n",
      "[########################################] | 100% Completed |  0.1s\n",
      "[########################################] | 100% Completed |  0.1s\n",
      "[########################################] | 100% Completed |  0.1s\n",
      "[########################################] | 100% Completed |  0.1s\n",
      "[########################################] | 100% Completed |  0.1s\n",
      "[########################################] | 100% Completed |  0.1s\n",
      "[########################################] | 100% Completed |  0.1s\n",
      "[########################################] | 100% Completed |  0.1s\n"
     ]
    },
    {
     "data": {
      "text/plain": [
       "(200, 305)"
      ]
     },
     "execution_count": 72,
     "metadata": {},
     "output_type": "execute_result"
    },
    {
     "data": {
      "image/png": "[encoded data removed]",
      "text/plain": [
       "<Figure size 576x576 with 1 Axes>"
      ]
     },
     "metadata": {
      "needs_background": "light"
     },
     "output_type": "display_data"
    }
   ],
   "source": [
    "plt.figure(figsize=[8,8])\n",
    "[plt.plot(ta_barpa_arvo.isel({\"time\":i}), ta_barpa_arvo.pressure, marker=\"x\", color=\"tab:red\") for i in np.arange(31)]\n",
    "[plt.plot(ta_barra_arvo.air_temp.isel({\"time\":i}), ta_barra_arvo.pressure, marker=\"x\", color=\"tab:blue\") for i in np.arange(31)]\n",
    "ax=plt.gca()\n",
    "ax.invert_yaxis()\n",
    "plt.xlim([200,305])"
   ]
  },
  {
   "cell_type": "code",
   "execution_count": 87,
   "metadata": {},
   "outputs": [
    {
     "name": "stdout",
     "output_type": "stream",
     "text": [
      "[########################################] | 100% Completed |  0.1s\n",
      "[########################################] | 100% Completed |  0.2s\n",
      "[########################################] | 100% Completed |  0.2s\n",
      "[########################################] | 100% Completed |  0.1s\n",
      "[########################################] | 100% Completed |  0.2s\n",
      "[########################################] | 100% Completed |  0.2s\n"
     ]
    },
    {
     "data": {
      "text/plain": [
       "<matplotlib.lines.Line2D at 0x1539b3879160>"
      ]
     },
     "execution_count": 87,
     "metadata": {},
     "output_type": "execute_result"
    },
    {
     "data": {
      "image/png": "[encoded data removed]",
      "text/plain": [
       "<Figure size 432x288 with 1 Axes>"
      ]
     },
     "metadata": {
      "needs_background": "light"
     },
     "output_type": "display_data"
    }
   ],
   "source": [
    "plt.plot((ta_barpa_arvo - ta_barra_arvo.air_temp).mean(\"time\"), ta_barpa_arvo.pressure)\n",
    "ax=plt.gca()\n",
    "ax.invert_yaxis()\n",
    "plt.axvline(0, color=\"k\", linestyle=\"--\")"
   ]
  },
  {
   "cell_type": "code",
   "execution_count": null,
   "metadata": {},
   "outputs": [],
   "source": []
  }
 ],
 "metadata": {
  "kernelspec": {
   "display_name": "Python [conda env:miniconda3-wrfpython3.6]",
   "language": "python",
   "name": "conda-env-miniconda3-wrfpython3.6-py"
  },
  "language_info": {
   "codemirror_mode": {
    "name": "ipython",
    "version": 3
   },
   "file_extension": ".py",
   "mimetype": "text/x-python",
   "name": "python",
   "nbconvert_exporter": "python",
   "pygments_lexer": "ipython3",
   "version": "3.6.9"
  }
 },
 "nbformat": 4,
 "nbformat_minor": 4
}
