{
 "cells": [
  {
   "cell_type": "markdown",
   "id": "db0e2849-d4c4-4ff3-a4d5-a7f1b1a7a61c",
   "metadata": {},
   "source": [
    "## Load the following data, and clean up and save for publication\n",
    "\n",
    "- Daily maximum wind gust data from each dataset* (AWS, ERA-Interim, BARPAC-M, BARPA-R), with associated environmental cluster/diagnostics**, and lightning information*** (except for ERA-Interim)\n",
    "- AWS site list and information\n",
    "- Regridded WWLLN*** and BARPA daily lightning data.\n",
    "\n",
    "\n",
    "\\* AWS data above should be fine to publish. Need to check for BARPA. ERA-Interim should be under open license; \\*\\* ERA5 should be under open license; \\*\\*\\* Again need to check it we can re-publish this WWLLN data at site locations; \\*\\*\\*\\* Also need to check this daily, gridded WWLNN data"
   ]
  },
  {
   "cell_type": "code",
   "execution_count": null,
   "id": "5b3b5b0c-4857-4b61-bb6a-3962eb17f048",
   "metadata": {},
   "outputs": [],
   "source": []
  }
 ],
 "metadata": {
  "kernelspec": {
   "display_name": "Python [conda env:analysis3-unstable]",
   "language": "python",
   "name": "conda-env-analysis3-unstable-py"
  },
  "language_info": {
   "codemirror_mode": {
    "name": "ipython",
    "version": 3
   },
   "file_extension": ".py",
   "mimetype": "text/x-python",
   "name": "python",
   "nbconvert_exporter": "python",
   "pygments_lexer": "ipython3",
   "version": "3.9.15"
  }
 },
 "nbformat": 4,
 "nbformat_minor": 5
}
